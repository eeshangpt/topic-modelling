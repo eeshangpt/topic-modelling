{
 "cells": [
  {
   "cell_type": "code",
   "execution_count": 1,
   "id": "polar-circus",
   "metadata": {
    "scrolled": true
   },
   "outputs": [
    {
     "name": "stderr",
     "output_type": "stream",
     "text": [
      "[nltk_data] Downloading package punkt to /root/nltk_data...\n",
      "[nltk_data]   Package punkt is already up-to-date!\n",
      "[nltk_data] Downloading package stopwords to /root/nltk_data...\n",
      "[nltk_data]   Package stopwords is already up-to-date!\n",
      "[nltk_data] Downloading package wordnet to /root/nltk_data...\n",
      "[nltk_data]   Package wordnet is already up-to-date!\n"
     ]
    },
    {
     "data": {
      "text/plain": [
       "True"
      ]
     },
     "execution_count": 1,
     "metadata": {},
     "output_type": "execute_result"
    }
   ],
   "source": [
    "import os\n",
    "import json\n",
    "\n",
    "import nltk\n",
    "import numpy as np\n",
    "from nltk.corpus import stopwords\n",
    "from nltk.stem import WordNetLemmatizer, PorterStemmer\n",
    "from nltk.tokenize import word_tokenize\n",
    "from sklearn.feature_extraction.text import CountVectorizer, TfidfVectorizer\n",
    "\n",
    "nltk.download('punkt')\n",
    "nltk.download('stopwords')\n",
    "nltk.download('wordnet')"
   ]
  },
  {
   "cell_type": "code",
   "execution_count": 2,
   "id": "biblical-marshall",
   "metadata": {},
   "outputs": [],
   "source": [
    "DATA_DIR = os.path.join(os.getcwd(), \"corpusd_cleandata\")"
   ]
  },
  {
   "cell_type": "code",
   "execution_count": 3,
   "id": "sensitive-lighting",
   "metadata": {},
   "outputs": [],
   "source": [
    "documents = []\n",
    "for _, __, files in os.walk(DATA_DIR):\n",
    "    for file in files:\n",
    "        if os.path.isfile(os.path.join(DATA_DIR, file)):\n",
    "            with open(os.path.join(DATA_DIR, file), 'r') as f:\n",
    "                documents.append(json.load(f))"
   ]
  },
  {
   "cell_type": "code",
   "execution_count": 4,
   "id": "editorial-dispatch",
   "metadata": {},
   "outputs": [],
   "source": [
    "stop_words = stopwords.words('english')\n",
    "lemmatizer = WordNetLemmatizer()\n",
    "stemmer = PorterStemmer()\n",
    "\n",
    "doc_text_tokens_lemma = [\" \".join([lemmatizer.lemmatize(token.lower()) for token in word_tokenize(doc_text)\n",
    "                                   if token not in stop_words])\n",
    "                         for doc_text in map(lambda doc: doc['text'], documents)]"
   ]
  },
  {
   "cell_type": "code",
   "execution_count": 5,
   "id": "handmade-major",
   "metadata": {},
   "outputs": [],
   "source": [
    "count_vectorizer = CountVectorizer()\n",
    "doc_text_tokens_cnt_vec = count_vectorizer.fit_transform(doc_text_tokens_lemma)\n",
    "np.save(\"vectorized_count\", doc_text_tokens_cnt_vec)"
   ]
  },
  {
   "cell_type": "code",
   "execution_count": 6,
   "id": "muslim-crazy",
   "metadata": {},
   "outputs": [],
   "source": [
    "tfidf_vectorizer = TfidfVectorizer()\n",
    "doc_text_tokens_idf_vec = tfidf_vectorizer.fit_transform(doc_text_tokens_lemma)\n",
    "np.save(\"vectorized_tfidf\", doc_text_tokens_idf_vec)"
   ]
  }
 ],
 "metadata": {
  "kernelspec": {
   "display_name": "Python 3",
   "language": "python",
   "name": "python3"
  },
  "language_info": {
   "codemirror_mode": {
    "name": "ipython",
    "version": 3
   },
   "file_extension": ".py",
   "mimetype": "text/x-python",
   "name": "python",
   "nbconvert_exporter": "python",
   "pygments_lexer": "ipython3",
   "version": "3.8.10"
  }
 },
 "nbformat": 4,
 "nbformat_minor": 5
}
